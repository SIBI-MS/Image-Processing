{
 "cells": [
  {
   "cell_type": "code",
   "execution_count": null,
   "id": "389513fe",
   "metadata": {},
   "outputs": [],
   "source": [
    "#importing the opencv module  \n",
    "import cv2  \n",
    "  \n",
    "# read image using imread('path') and 0 denotes read as grayscale image  \n",
    "img = cv2.imread('flower2.jpeg',0)\n",
    "\n",
    "# display image\n",
    "cv2.imshow('image',img)  \n",
    "  \n",
    "cv2.waitKey(0) \n",
    "cv2.destroyAllWindows()  \n"
   ]
  }
 ],
 "metadata": {
  "kernelspec": {
   "display_name": "Python 3 (ipykernel)",
   "language": "python",
   "name": "python3"
  },
  "language_info": {
   "codemirror_mode": {
    "name": "ipython",
    "version": 3
   },
   "file_extension": ".py",
   "mimetype": "text/x-python",
   "name": "python",
   "nbconvert_exporter": "python",
   "pygments_lexer": "ipython3",
   "version": "3.10.6"
  }
 },
 "nbformat": 4,
 "nbformat_minor": 5
}
