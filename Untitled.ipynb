{
 "cells": [
  {
   "cell_type": "code",
   "execution_count": 10,
   "id": "00384575",
   "metadata": {},
   "outputs": [],
   "source": [
    "from PIL import Image"
   ]
  },
  {
   "cell_type": "code",
   "execution_count": 17,
   "id": "dec37cc2",
   "metadata": {},
   "outputs": [],
   "source": [
    "def print_image(image_path) :\n",
    "    img = Image.open(image_path)\n",
    "    img.show()\n",
    "    print('Image Format : ', img.format)\n",
    "    print('Image Mode : ', img.mode)\n",
    "    print('Image Size : ', img.size)\n",
    "    print('\\n\\n')"
   ]
  },
  {
   "cell_type": "code",
   "execution_count": 18,
   "id": "f10cf5e2",
   "metadata": {},
   "outputs": [
    {
     "name": "stdout",
     "output_type": "stream",
     "text": [
      "Image Format :  JPEG\n",
      "Image Mode :  RGB\n",
      "Image Size :  (276, 183)\n",
      "\n",
      "\n",
      "\n",
      "Image Format :  JPEG\n",
      "Image Mode :  RGB\n",
      "Image Size :  (294, 171)\n",
      "\n",
      "\n",
      "\n",
      "Image Format :  JPEG\n",
      "Image Mode :  RGB\n",
      "Image Size :  (194, 259)\n",
      "\n",
      "\n",
      "\n",
      "Image Format :  JPEG\n",
      "Image Mode :  RGB\n",
      "Image Size :  (168, 300)\n",
      "\n",
      "\n",
      "\n",
      "Image Format :  JPEG\n",
      "Image Mode :  RGB\n",
      "Image Size :  (275, 183)\n",
      "\n",
      "\n",
      "\n"
     ]
    }
   ],
   "source": [
    "image_path = [\"flower.jpeg\", \"flower2.jpeg\", \"flower3.jpeg\", \"flower4.jpeg\", \"flower5.jpeg\"]\n",
    "for i in image_path :\n",
    "    print_image(i)"
   ]
  },
  {
   "cell_type": "code",
   "execution_count": null,
   "id": "9d8ce53d",
   "metadata": {},
   "outputs": [],
   "source": []
  },
  {
   "cell_type": "code",
   "execution_count": null,
   "id": "d5298177",
   "metadata": {},
   "outputs": [],
   "source": []
  }
 ],
 "metadata": {
  "kernelspec": {
   "display_name": "Python 3 (ipykernel)",
   "language": "python",
   "name": "python3"
  },
  "language_info": {
   "codemirror_mode": {
    "name": "ipython",
    "version": 3
   },
   "file_extension": ".py",
   "mimetype": "text/x-python",
   "name": "python",
   "nbconvert_exporter": "python",
   "pygments_lexer": "ipython3",
   "version": "3.10.6"
  }
 },
 "nbformat": 4,
 "nbformat_minor": 5
}
